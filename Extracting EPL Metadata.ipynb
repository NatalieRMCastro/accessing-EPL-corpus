{
 "cells": [
  {
   "cell_type": "markdown",
   "id": "4bf427b1",
   "metadata": {},
   "source": [
    "## Extracting EPL Metadata\n",
    "\n",
    "This notebook is ran at step two of the EPL Metadata Extraction .ipynb\n",
    "\n",
    "This notebook is used to extract the metadata and crete a CSV file on my local machine. There was too many files to upload them all to Google Drive, so this was ran locally and then the CSV uploaded to Google Drive instead. This file pairs with the [EPL Metadata Extraction])https://colab.research.google.com/drive/1_ZvgW_b71s9uTuQq9bZqNlsprP6jWFYJ?usp=sharing), and its contents are in the notebook as well. \n"
   ]
  },
  {
   "cell_type": "code",
   "execution_count": 71,
   "id": "74446aa7",
   "metadata": {},
   "outputs": [],
   "source": [
    "''' DATA QUERYING '''\n",
    "from lxml import etree\n",
    "parser = etree.XMLParser(collect_ids=False,encoding='utf-8')\n",
    "nsamp = {'tei': 'http://www.tei-c.org/ns/1.0'} ### EPL Source\n",
    "\n",
    "\n",
    "''' DATA MANAGEMENT '''\n",
    "import pandas as pd\n",
    "import regex as re\n",
    "\n",
    "import json\n",
    "\n",
    "import glob\n",
    "from tqdm.notebook import tqdm"
   ]
  },
  {
   "cell_type": "code",
   "execution_count": 7,
   "id": "13d59865",
   "metadata": {},
   "outputs": [],
   "source": [
    "files = glob.glob(r\"C:\\Users\\natal\\Downloads\\epmetadata-master\\epmetadata-master\\header\\*.xml\")"
   ]
  },
  {
   "cell_type": "code",
   "execution_count": 76,
   "id": "c6368397",
   "metadata": {},
   "outputs": [
    {
     "data": {
      "application/vnd.jupyter.widget-view+json": {
       "model_id": "1799deef7d45489f910836488f4a804d",
       "version_major": 2,
       "version_minor": 0
      },
      "text/plain": [
       "📖🔍 🪄 finding data...:   0%|          | 0/60331 [00:00<?, ? text/s]"
      ]
     },
     "metadata": {},
     "output_type": "display_data"
    },
    {
     "name": "stdout",
     "output_type": "stream",
     "text": [
      "✨ data has been found\n"
     ]
    }
   ],
   "source": [
    "metadata_data = [] # Empty list for data\n",
    "tcps = [] # Empty list for TCP IDs\n",
    "\n",
    "## extracting the metadata from each file\n",
    "for file_name in tqdm(files,desc=\"📖🔍 🪄 finding data...\",unit=' text',):\n",
    " ## Using the file name to extract the TCP\n",
    "    match = re.findall(r'(?<=header\\\\).+(?=_)',file_name)\n",
    "    tcp_id = match[0]\n",
    "    ## Using the XML parser to create an xml object that holds all of the metadata\n",
    "    metadata = etree.parse(file_name,parser)\n",
    "    title = metadata.find(\".//tei:sourceDesc//tei:title\", namespaces=nsamp).text\n",
    "\n",
    "    ## Author\n",
    "    try:\n",
    "        author = metadata.find(\".//tei:person[@role='creator']/tei:persName\", namespaces=nsamp).text\n",
    "    except AttributeError:\n",
    "        author = None\n",
    "    \n",
    "    ## Author Gender\n",
    "    try:\n",
    "        gender = metadata.find(\".//tei:sourceDesc//tei:author\", namespaces=nsamp).get(\"gender\")\n",
    "    except AttributeError:\n",
    "        gender = None\n",
    "        \n",
    "    ## Author Birth\n",
    "    try:\n",
    "        birth = metadata.find(\".//tei:person[@role='creator']/tei:birth\", namespaces=nsamp).text\n",
    "    except AttributeError:\n",
    "        birth = None\n",
    "        \n",
    "    ## Author Death\n",
    "    try:\n",
    "        death = metadata.find(\".//tei:person[@role='creator']/tei:death\", namespaces=nsamp).text\n",
    "    except AttributeError:\n",
    "        death = None\n",
    "\n",
    "          # Get date (if there is one that isn't a range)\n",
    "    try:\n",
    "        date = metadata.find(\".//tei:sourceDesc//tei:date\", namespaces=nsamp).get(\"when\")\n",
    "    except AttributeError:\n",
    "        date = None   \n",
    "    # Get publisher (if there is one that isn't a range)\n",
    "    try:\n",
    "        publisher = metadata.find(\".//tei:person[@type='printer']/tei:persName\", namespaces=nsamp).text\n",
    "    except AttributeError:\n",
    "        publisher = None  \n",
    "    # Get publisher (if there is one that isn't a range)\n",
    "    try:\n",
    "        pub_location = metadata.find(\".//tei:sourceDesc//tei:pubPlace\", namespaces=nsamp).text\n",
    "    except AttributeError:\n",
    "        pub_location = None  \n",
    "      ## Storing the metadata in a dictionary\n",
    "    current_metadata = {'TCP ID':tcp_id,'title':title,'author':author,'gender':gender,\"auth birth\":birth,\"auth death\":death,'pub date':date,'publisher':publisher,'location':pub_location}\n",
    "    metadata_data.append(current_metadata)\n",
    "      ## Adding the tcp to the index list\n",
    "    tcps.append(tcp_id)\n",
    "    \n",
    "    \n",
    "print (\"✨ data has been found\")\n",
    "           "
   ]
  },
  {
   "cell_type": "code",
   "execution_count": 77,
   "id": "6d66038b",
   "metadata": {},
   "outputs": [
    {
     "data": {
      "text/html": [
       "<div>\n",
       "<style scoped>\n",
       "    .dataframe tbody tr th:only-of-type {\n",
       "        vertical-align: middle;\n",
       "    }\n",
       "\n",
       "    .dataframe tbody tr th {\n",
       "        vertical-align: top;\n",
       "    }\n",
       "\n",
       "    .dataframe thead th {\n",
       "        text-align: right;\n",
       "    }\n",
       "</style>\n",
       "<table border=\"1\" class=\"dataframe\">\n",
       "  <thead>\n",
       "    <tr style=\"text-align: right;\">\n",
       "      <th></th>\n",
       "      <th>TCP ID</th>\n",
       "      <th>title</th>\n",
       "      <th>author</th>\n",
       "      <th>gender</th>\n",
       "      <th>auth birth</th>\n",
       "      <th>auth death</th>\n",
       "      <th>pub date</th>\n",
       "      <th>publisher</th>\n",
       "      <th>location</th>\n",
       "    </tr>\n",
       "  </thead>\n",
       "  <tbody>\n",
       "    <tr>\n",
       "      <th>A00001</th>\n",
       "      <td>A00001</td>\n",
       "      <td>[The passoinate [sic] morrice]</td>\n",
       "      <td>A.,</td>\n",
       "      <td>L</td>\n",
       "      <td>None</td>\n",
       "      <td>None</td>\n",
       "      <td>1593</td>\n",
       "      <td>R. Bourne?</td>\n",
       "      <td>[London :</td>\n",
       "    </tr>\n",
       "    <tr>\n",
       "      <th>A00002</th>\n",
       "      <td>A00002</td>\n",
       "      <td>The brides ornaments viz. fiue meditations, mo...</td>\n",
       "      <td>Aylett, Robert,</td>\n",
       "      <td>M</td>\n",
       "      <td>1583</td>\n",
       "      <td>1655?.</td>\n",
       "      <td>1625</td>\n",
       "      <td>William Stansby</td>\n",
       "      <td>London :</td>\n",
       "    </tr>\n",
       "    <tr>\n",
       "      <th>A00003</th>\n",
       "      <td>A00003</td>\n",
       "      <td>A sermon preached at Paules-Crosse the second ...</td>\n",
       "      <td>Ailesbury, Thomas,</td>\n",
       "      <td>M</td>\n",
       "      <td>None</td>\n",
       "      <td>None</td>\n",
       "      <td>1623</td>\n",
       "      <td>George Eld</td>\n",
       "      <td>London :</td>\n",
       "    </tr>\n",
       "    <tr>\n",
       "      <th>A00005</th>\n",
       "      <td>A00005</td>\n",
       "      <td>Here begynneth a shorte and abreue table on th...</td>\n",
       "      <td>None</td>\n",
       "      <td>None</td>\n",
       "      <td>None</td>\n",
       "      <td>None</td>\n",
       "      <td>1515</td>\n",
       "      <td>me Iulyan Notary</td>\n",
       "      <td>[Enprynted at Londo[n] :</td>\n",
       "    </tr>\n",
       "    <tr>\n",
       "      <th>A00007</th>\n",
       "      <td>A00007</td>\n",
       "      <td>The Cronycles of Englonde with the dedes of po...</td>\n",
       "      <td>None</td>\n",
       "      <td>None</td>\n",
       "      <td>None</td>\n",
       "      <td>None</td>\n",
       "      <td>1528</td>\n",
       "      <td>None</td>\n",
       "      <td>[Imprynted at London :</td>\n",
       "    </tr>\n",
       "  </tbody>\n",
       "</table>\n",
       "</div>"
      ],
      "text/plain": [
       "        TCP ID                                              title  \\\n",
       "A00001  A00001                     [The passoinate [sic] morrice]   \n",
       "A00002  A00002  The brides ornaments viz. fiue meditations, mo...   \n",
       "A00003  A00003  A sermon preached at Paules-Crosse the second ...   \n",
       "A00005  A00005  Here begynneth a shorte and abreue table on th...   \n",
       "A00007  A00007  The Cronycles of Englonde with the dedes of po...   \n",
       "\n",
       "                    author gender auth birth auth death pub date  \\\n",
       "A00001                 A.,      L       None       None     1593   \n",
       "A00002     Aylett, Robert,      M       1583     1655?.     1625   \n",
       "A00003  Ailesbury, Thomas,      M       None       None     1623   \n",
       "A00005                None   None       None       None     1515   \n",
       "A00007                None   None       None       None     1528   \n",
       "\n",
       "               publisher                  location  \n",
       "A00001        R. Bourne?                 [London :  \n",
       "A00002   William Stansby                  London :  \n",
       "A00003        George Eld                  London :  \n",
       "A00005  me Iulyan Notary  [Enprynted at Londo[n] :  \n",
       "A00007              None    [Imprynted at London :  "
      ]
     },
     "execution_count": 77,
     "metadata": {},
     "output_type": "execute_result"
    }
   ],
   "source": [
    "''' Generating A Data Frame With the Metadata '''\n",
    "\n",
    "metadata = pd.DataFrame(metadata_data,index=tcps)\n",
    "metadata.head()"
   ]
  },
  {
   "cell_type": "code",
   "execution_count": 78,
   "id": "3608ffcd",
   "metadata": {},
   "outputs": [
    {
     "data": {
      "text/plain": [
       "60331"
      ]
     },
     "execution_count": 78,
     "metadata": {},
     "output_type": "execute_result"
    }
   ],
   "source": [
    "len(metadata)"
   ]
  },
  {
   "cell_type": "code",
   "execution_count": 79,
   "id": "18e7ff1f",
   "metadata": {},
   "outputs": [],
   "source": [
    "metadata.to_csv(\"supplementary_metadata.csv\")"
   ]
  },
  {
   "cell_type": "code",
   "execution_count": null,
   "id": "8f514f31",
   "metadata": {},
   "outputs": [],
   "source": []
  },
  {
   "cell_type": "markdown",
   "id": "fa2c3b79",
   "metadata": {},
   "source": [
    "___\n",
    "<font color=\"gray\">\n",
    "This notebook was prepared by Natalie Castro for the CU Boulder Lab for Early Modern Text Analysis advised by Dr. David Glimp and Dr. Rachael Deagman Simonetta\n",
    "\n",
    "10/30/2024</font>"
   ]
  }
 ],
 "metadata": {
  "kernelspec": {
   "display_name": "Python 3 (ipykernel)",
   "language": "python",
   "name": "python3"
  },
  "language_info": {
   "codemirror_mode": {
    "name": "ipython",
    "version": 3
   },
   "file_extension": ".py",
   "mimetype": "text/x-python",
   "name": "python",
   "nbconvert_exporter": "python",
   "pygments_lexer": "ipython3",
   "version": "3.10.12"
  }
 },
 "nbformat": 4,
 "nbformat_minor": 5
}
